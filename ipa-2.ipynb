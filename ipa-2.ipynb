{
 "cells": [
  {
   "cell_type": "markdown",
   "metadata": {},
   "source": [
    "\n",
    "Individual Programming Assignment 2<br>\n",
    "70 points<br>\n",
    "This assignment will develop your proficiency with Python's control flows.<br>\n"
   ]
  },
  {
   "cell_type": "code",
   "execution_count": 93,
   "metadata": {},
   "outputs": [],
   "source": [
    "def shift_letter(letter, shift):\n",
    "    '''Shift Letter.\n",
    "    5 points.\n",
    "\n",
    "    Shift a letter right by the given number.\n",
    "    Wrap the letter around if it reaches the end of the alphabet.\n",
    "\n",
    "    Examples:\n",
    "    shift_letter(\"A\", 0) -> \"A\"\n",
    "    shift_letter(\"A\", 2) -> \"C\"\n",
    "    shift_letter(\"Z\", 1) -> \"A\"\n",
    "    shift_letter(\"X\", 5) -> \"C\"\n",
    "    shift_letter(\" \", _) -> \" \"\n",
    "\n",
    "    *Note: the single underscore `_` is used to acknowledge the presence\n",
    "        of a value without caring about its contents.\n",
    "\n",
    "    Parameters\n",
    "    ----------\n",
    "    letter: str\n",
    "        a single uppercase English letter, or a space.\n",
    "    shift: int\n",
    "        the number by which to shift the letter.\n",
    "\n",
    "    Returns\n",
    "    -------\n",
    "    str\n",
    "        the letter, shifted appropriately, if a letter.\n",
    "        a single space if the original letter was a space.\n",
    "    '''\n",
    "    # Replace `pass` with your code.\n",
    "    # Stay within the function. Only use the parameters as input. The function should return your answer.\n",
    "    if len(letter) != 1:\n",
    "        print (\"Please enter a single uppercase letter\")\n",
    "        return\n",
    "\n",
    "    if letter == ' ': \n",
    "        return ' ' \n",
    "\n",
    "    letters = 'ABCDEFGHIJKLMNOPQRSTUVWXYZ'\n",
    "    index = letters.index(letter) \n",
    "    shifted_index = (index + shift) % 26\n",
    "    shifted_letter = letters[shifted_index]\n",
    "\n",
    "    return shifted_letter"
   ]
  },
  {
   "cell_type": "code",
   "execution_count": 95,
   "metadata": {},
   "outputs": [
    {
     "name": "stdout",
     "output_type": "stream",
     "text": [
      "A\n",
      "C\n",
      "A\n",
      "C\n",
      "F\n",
      " \n"
     ]
    }
   ],
   "source": [
    "print(shift_letter(\"A\", 0))\n",
    "print(shift_letter(\"A\", 2))\n",
    "print(shift_letter(\"Z\", 1))\n",
    "print(shift_letter(\"X\", 5))\n",
    "print(shift_letter(\"D\", 2))\n",
    "print(shift_letter(\" \", _))"
   ]
  },
  {
   "cell_type": "code",
   "execution_count": 257,
   "metadata": {},
   "outputs": [
    {
     "name": "stdout",
     "output_type": "stream",
     "text": [
      "JGNNQ\n",
      "CCCCCC\n",
      "ZZAABBCC\n",
      "L\n"
     ]
    }
   ],
   "source": [
    "def caesar_cipher(message, shift):\n",
    "    '''Caesar Cipher.\n",
    "    10 points.\n",
    "    Apply a shift number to a string of uppercase English letters and spaces.\n",
    "    Parameters\n",
    "    ----------\n",
    "    message: str\n",
    "        a string of uppercase English letters and spaces.\n",
    "    shift: int\n",
    "        the number by which to shift the letters.\n",
    "    Returns\n",
    "    -------\n",
    "    str\n",
    "        the message, shifted appropriately.\n",
    "    '''\n",
    "    result = \"\"\n",
    "    for letter in message:\n",
    "        if letter.isupper():\n",
    "            result += chr((ord(letter) - 65 + shift) % 26 + 65)\n",
    "\n",
    "        elif letter == ' ':\n",
    "            result += ' '\n",
    "            \n",
    "        else:\n",
    "            result += letter\n",
    "    \n",
    "    return result\n",
    "\n",
    "print(caesar_cipher(\"HELLO\", 2))\n",
    "print(caesar_cipher(\"AAAAAA\", 2))\n",
    "print(caesar_cipher(\"AABBCCDD\", 25))\n",
    "print(caesar_cipher(\"J\",2))"
   ]
  },
  {
   "cell_type": "code",
   "execution_count": 121,
   "metadata": {},
   "outputs": [
    {
     "name": "stdout",
     "output_type": "stream",
     "text": [
      "C\n",
      "D\n",
      " \n"
     ]
    }
   ],
   "source": [
    "def shift_by_letter(letter, letter_shift):\n",
    "    '''Shift By Letter.\n",
    "    10 points.\n",
    "    Shift a letter to the right using the number equivalent of another letter.\n",
    "    The shift letter is any letter from A to Z, where A represents 0, B represents 1,\n",
    "        ..., Z represents 25.\n",
    "    Examples:\n",
    "    shift_by_letter(\"A\", \"A\") -> \"A\"\n",
    "    shift_by_letter(\"A\", \"C\") -> \"C\"\n",
    "    shift_by_letter(\"B\", \"K\") -> \"L\"\n",
    "    shift_by_letter(\" \", _) -> \" \"\n",
    "    Parameters\n",
    "    ----------\n",
    "    letter: str\n",
    "        a single uppercase English letter, or a space.\n",
    "    letter_shift: str\n",
    "        a single uppercase English letter.\n",
    "    Returns\n",
    "    -------\n",
    "    str\n",
    "        the letter, shifted appropriately.\n",
    "    '''\n",
    "    # Replace `pass` with your code.\n",
    "    # Stay within the function. Only use the parameters as input. The function should return your answer.\n",
    "    \n",
    "    if len(letter) != 1:\n",
    "        print(\"Please enter a single uppercase letter\")\n",
    "        return\n",
    "    \n",
    "    if letter == ' ': \n",
    "        return ' ' \n",
    "    \n",
    "    base_index = ord('A')\n",
    "    \n",
    "    index = ord(letter) - base_index\n",
    "    shift_index = ord(letter_shift) - base_index\n",
    "    \n",
    "    shifted_index = (index + shift_index) % 26\n",
    "    shifted_letter = chr(base_index + shifted_index)\n",
    "    \n",
    "    return shifted_letter\n",
    "\n",
    "print(shift_by_letter(\"B\", \"B\"))\n",
    "print(shift_by_letter(\"A\", \"D\"))\n",
    "print(shift_by_letter(\" \", _))"
   ]
  },
  {
   "cell_type": "code",
   "execution_count": 259,
   "metadata": {},
   "outputs": [
    {
     "name": "stdout",
     "output_type": "stream",
     "text": [
      "MPOHUFYU\n",
      "CCCCCCC\n",
      "VSLQXCHX\n"
     ]
    }
   ],
   "source": [
    "def vigenere_cipher(message, key):\n",
    "    '''Vigenere Cipher.\n",
    "    15 points.\n",
    "    Encrypts a message using a keyphrase instead of a static number.\n",
    "    Every letter in the message is shifted by the number represented by the\n",
    "        respective letter in the key.\n",
    "    Spaces should be ignored.\n",
    "    Example:\n",
    "    vigenere_cipher(\"A C\", \"KEY\") -> \"K A\"\n",
    "    If needed, the keyphrase is extended to match the length of the key.\n",
    "        If the key is \"KEY\" and the message is \"LONGTEXT\",\n",
    "        the key will be extended to be \"KEYKEYKE\".\n",
    "    Parameters\n",
    "    ----------\n",
    "    message: str\n",
    "        a string of uppercase English letters and spaces.\n",
    "    key: str\n",
    "        a string of uppercase English letters. Will never be longer than the message.\n",
    "        Will never contain spaces.\n",
    "    Returns\n",
    "    -------\n",
    "    str\n",
    "        the message, shifted appropriately.\n",
    "    '''\n",
    "    # Replace `pass` with your code.\n",
    "    # Stay within the function. Only use the parameters as input. The function should return your answer.\n",
    "    \n",
    "    encrypted_message = \"\"\n",
    "    key_length = len(key)\n",
    "    key = key.upper()\n",
    "    \n",
    "    for i in range(len(message)):\n",
    "        char = message[i]\n",
    "        if char.isupper(): \n",
    "            shift = ord(key[i % key_length])- ord('A')\n",
    "            encrypted_char = chr(((ord(char) - ord('A') + shift) % 26) + ord('A'))\n",
    "\n",
    "        else: \n",
    "            encrypted_char = char \n",
    "        \n",
    "        encrypted_message += encrypted_char\n",
    "\n",
    "    return encrypted_message\n",
    "\n",
    "print(vigenere_cipher(\"LONGTEXT\", \"BBB\"))\n",
    "print(vigenere_cipher(\"AAAAAAA\", \"CCC\"))\n",
    "print(vigenere_cipher(\"LONGTEXT\", \"KEY\"))"
   ]
  },
  {
   "cell_type": "code",
   "execution_count": 179,
   "metadata": {},
   "outputs": [
    {
     "data": {
      "text/plain": [
       "'BBB'"
      ]
     },
     "execution_count": 179,
     "metadata": {},
     "output_type": "execute_result"
    }
   ],
   "source": [
    "vigenere_cipher(\"AAA\", \"BBB\")"
   ]
  },
  {
   "cell_type": "code",
   "execution_count": 265,
   "metadata": {},
   "outputs": [
    {
     "data": {
      "text/plain": [
       "'IOAOANRTNGFMI_E'"
      ]
     },
     "execution_count": 265,
     "metadata": {},
     "output_type": "execute_result"
    }
   ],
   "source": [
    "def scytale_cipher(message, shift):\n",
    "    '''Scytale Cipher.\n",
    "    15 points.\n",
    "    Encrypts a message by simulating a scytale cipher.\n",
    "    A scytale is a cylinder around which you can wrap a long strip of\n",
    "        parchment that contained a string of apparent gibberish. The parchment,\n",
    "        when read using the scytale, would reveal a message due to every nth\n",
    "        letter now appearing next to each other, revealing a proper message.\n",
    "    This encryption method is obsolete and should never be used to encrypt\n",
    "        data in production settings.\n",
    "    You may read more about the method here:\n",
    "        https://en.wikipedia.org/wiki/Scytale\n",
    "    You may follow this algorithm to implement a scytale-style cipher:\n",
    "    1. Take a message to be encoded and a \"shift\" number.\n",
    "        For this example, we will use \"INFORMATION_AGE\" as\n",
    "        the message and 3 as the shift.\n",
    "    2. Check if the length of the message is a multiple of\n",
    "        the shift. If it is not, add additional underscores\n",
    "        to the end of the message until it is.\n",
    "        In this example, \"INFORMATION_AGE\" is already a multiple of 3,\n",
    "        so we will leave it alone.\n",
    "    3. This is the tricky part. Construct the encoded message.\n",
    "        For each index i in the encoded message, use the character at the index\n",
    "        (i // shift) + (len(message) // shift) * (i % shift) of the raw message.\n",
    "        If this number doesn't make sense, you can play around with the cipher at\n",
    "         https://dencode.com/en/cipher/scytale to try to understand it.\n",
    "    4. Return the encoded message. In this case,\n",
    "        the output should be \"IMNNA_FTAOIGROE\".\n",
    "    Example:\n",
    "    scytale_cipher(\"INFORMATION_AGE\", 3) -> \"IMNNA_FTAOIGROE\"\n",
    "    scytale_cipher(\"INFORMATION_AGE\", 4) -> \"IRIANMOGFANEOT__\"\n",
    "    scytale_cipher(\"ALGORITHMS_ARE_IMPORTANT\", 8) -> \"AOTSRIOALRH_EMRNGIMA_PTT\"\n",
    "    Parameters\n",
    "    ----------\n",
    "    message: str\n",
    "        a string of uppercase English letters and underscores (underscores represent spaces)\n",
    "    shift: int\n",
    "        a positive int that does not exceed the length of message\n",
    "    Returns\n",
    "    -------\n",
    "    str\n",
    "        the encoded message\n",
    "    '''\n",
    "    # Replace `pass` with your code.\n",
    "    # Stay within the function. Only use the parameters as input. The function should return your answer.\n",
    "\n",
    "    encrypted_message = \"\"\n",
    "    length = len(message)\n",
    "    \n",
    "    if length % shift !=0:\n",
    "        message_2 = shift - (length % shift) \n",
    "        message_3 += message_2 * \"_\"\n",
    "\n",
    "    rows = [\"\"] * shift \n",
    "  \n",
    "    for i in range(length): \n",
    "        row_index = i % shift\n",
    "        rows[row_index] += message[i]\n",
    "\n",
    "    encrypted_message = ''.join(rows)\n",
    "\n",
    "    return encrypted_message \n",
    "\n",
    "scytale_cipher(\"INFORMATION_AGE\", 3)\n"
   ]
  },
  {
   "cell_type": "code",
   "execution_count": 249,
   "metadata": {},
   "outputs": [
    {
     "ename": "IndexError",
     "evalue": "list index out of range",
     "output_type": "error",
     "traceback": [
      "\u001b[0;31m---------------------------------------------------------------------------\u001b[0m",
      "\u001b[0;31mIndexError\u001b[0m                                Traceback (most recent call last)",
      "Cell \u001b[0;32mIn[249], line 21\u001b[0m\n\u001b[1;32m     18\u001b[0m     \u001b[38;5;28;01mreturn\u001b[39;00m encoded_message\n\u001b[1;32m     20\u001b[0m \u001b[38;5;66;03m# Test cases\u001b[39;00m\n\u001b[0;32m---> 21\u001b[0m \u001b[38;5;28mprint\u001b[39m(scytale_cipher(\u001b[38;5;124m\"\u001b[39m\u001b[38;5;124mINFORMATION_AGE\u001b[39m\u001b[38;5;124m\"\u001b[39m, \u001b[38;5;241m3\u001b[39m))  \u001b[38;5;66;03m# Output: \"IMNNA_FTAOIGROE\"\u001b[39;00m\n\u001b[1;32m     22\u001b[0m \u001b[38;5;28mprint\u001b[39m(scytale_cipher(\u001b[38;5;124m\"\u001b[39m\u001b[38;5;124mINFORMATION_AGE\u001b[39m\u001b[38;5;124m\"\u001b[39m, \u001b[38;5;241m4\u001b[39m))  \u001b[38;5;66;03m# Output: \"IRIANMOGFANEOT__\"\u001b[39;00m\n\u001b[1;32m     23\u001b[0m \u001b[38;5;28mprint\u001b[39m(scytale_cipher(\u001b[38;5;124m\"\u001b[39m\u001b[38;5;124mALGORITHMS_ARE_IMPORTANT\u001b[39m\u001b[38;5;124m\"\u001b[39m, \u001b[38;5;241m8\u001b[39m))\n",
      "Cell \u001b[0;32mIn[249], line 13\u001b[0m, in \u001b[0;36mscytale_cipher\u001b[0;34m(message, shift)\u001b[0m\n\u001b[1;32m     11\u001b[0m \u001b[38;5;28;01mfor\u001b[39;00m i \u001b[38;5;129;01min\u001b[39;00m \u001b[38;5;28mrange\u001b[39m(length):\n\u001b[1;32m     12\u001b[0m     column_index \u001b[38;5;241m=\u001b[39m (i \u001b[38;5;241m/\u001b[39m\u001b[38;5;241m/\u001b[39m shift) \u001b[38;5;241m+\u001b[39m (\u001b[38;5;28mlen\u001b[39m(message) \u001b[38;5;241m/\u001b[39m\u001b[38;5;241m/\u001b[39m shift) \u001b[38;5;241m*\u001b[39m (i \u001b[38;5;241m%\u001b[39m shift)\n\u001b[0;32m---> 13\u001b[0m     columns[column_index] \u001b[38;5;241m+\u001b[39m\u001b[38;5;241m=\u001b[39m message[i]\n\u001b[1;32m     15\u001b[0m \u001b[38;5;66;03m# Step 4: Concatenate columns into encoded message\u001b[39;00m\n\u001b[1;32m     16\u001b[0m encoded_message \u001b[38;5;241m=\u001b[39m \u001b[38;5;124m'\u001b[39m\u001b[38;5;124m'\u001b[39m\u001b[38;5;241m.\u001b[39mjoin(columns)\n",
      "\u001b[0;31mIndexError\u001b[0m: list index out of range"
     ]
    }
   ],
   "source": [
    "def scytale_cipher(message, shift):\n",
    "    # Step 1: Check if padding is necessary\n",
    "    if len(message) % shift != 0:\n",
    "        padding = shift - (len(message) % shift)\n",
    "        message += '_' * padding\n",
    "    \n",
    "    # Step 2: Initialize an empty list for columns\n",
    "    columns = [''] * shift\n",
    "    \n",
    "    # Step 3: Populate columns with characters from message\n",
    "    for i in range(length):\n",
    "        column_index = (i // shift) + (len(message) // shift) * (i % shift)\n",
    "        columns[column_index] += message[i]\n",
    "    \n",
    "    # Step 4: Concatenate columns into encoded message\n",
    "    encoded_message = ''.join(columns)\n",
    "    \n",
    "    return encoded_message\n",
    "\n",
    "# Test cases\n",
    "print(scytale_cipher(\"INFORMATION_AGE\", 3))  # Output: \"IMNNA_FTAOIGROE\"\n",
    "print(scytale_cipher(\"INFORMATION_AGE\", 4))  # Output: \"IRIANMOGFANEOT__\"\n",
    "print(scytale_cipher(\"ALGORITHMS_ARE_IMPORTANT\", 8))  # Output: \"AOTSRIOALRH_EMRNGIMA_PTT\""
   ]
  },
  {
   "cell_type": "code",
   "execution_count": null,
   "metadata": {},
   "outputs": [],
   "source": [
    "def scytale_decipher(message, shift):\n",
    "    '''Scytale De-cipher.\n",
    "    15 points.\n",
    "    Decrypts a message that was originally encrypted with the `scytale_cipher` function above.\n",
    "    Example:\n",
    "    scytale_decipher(\"IMNNA_FTAOIGROE\", 3) -> \"INFORMATION_AGE\"\n",
    "    scytale_decipher(\"AOTSRIOALRH_EMRNGIMA_PTT\", 8) -> \"ALGORITHMS_ARE_IMPORTANT\"\n",
    "    scytale_decipher(\"IRIANMOGFANEOT__\", 4) -> \"INFORMATION_AGE_\"\n",
    "    There is no further brief for this number.\n",
    "    Parameters\n",
    "    ----------\n",
    "    message: str\n",
    "        a string of uppercase English letters and underscores (underscores represent spaces)\n",
    "    shift: int\n",
    "        a positive int that does not exceed the length of message\n",
    "    Returns\n",
    "    -------\n",
    "    str\n",
    "        the decoded message\n",
    "    '''\n",
    "    # Replace `pass` with your code.\n",
    "    # Stay within the function. Only use the parameters as input. The function should return your answer.\n",
    "    pass"
   ]
  },
  {
   "cell_type": "markdown",
   "metadata": {},
   "source": []
  }
 ],
 "metadata": {
  "kernelspec": {
   "display_name": "Python 3 (ipykernel)",
   "language": "python",
   "name": "python3"
  },
  "language_info": {
   "codemirror_mode": {
    "name": "ipython",
    "version": 3
   },
   "file_extension": ".py",
   "mimetype": "text/x-python",
   "name": "python",
   "nbconvert_exporter": "python",
   "pygments_lexer": "ipython3",
   "version": "3.11.7"
  }
 },
 "nbformat": 4,
 "nbformat_minor": 4
}
